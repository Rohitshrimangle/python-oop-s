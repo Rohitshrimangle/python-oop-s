{
 "cells": [
  {
   "cell_type": "code",
   "execution_count": 2,
   "id": "33d1f5db",
   "metadata": {},
   "outputs": [
    {
     "data": {
      "text/plain": [
       "['__add__',\n",
       " '__class__',\n",
       " '__class_getitem__',\n",
       " '__contains__',\n",
       " '__delattr__',\n",
       " '__delitem__',\n",
       " '__dir__',\n",
       " '__doc__',\n",
       " '__eq__',\n",
       " '__format__',\n",
       " '__ge__',\n",
       " '__getattribute__',\n",
       " '__getitem__',\n",
       " '__gt__',\n",
       " '__hash__',\n",
       " '__iadd__',\n",
       " '__imul__',\n",
       " '__init__',\n",
       " '__init_subclass__',\n",
       " '__iter__',\n",
       " '__le__',\n",
       " '__len__',\n",
       " '__lt__',\n",
       " '__mul__',\n",
       " '__ne__',\n",
       " '__new__',\n",
       " '__reduce__',\n",
       " '__reduce_ex__',\n",
       " '__repr__',\n",
       " '__reversed__',\n",
       " '__rmul__',\n",
       " '__setattr__',\n",
       " '__setitem__',\n",
       " '__sizeof__',\n",
       " '__str__',\n",
       " '__subclasshook__',\n",
       " 'append',\n",
       " 'clear',\n",
       " 'copy',\n",
       " 'count',\n",
       " 'extend',\n",
       " 'index',\n",
       " 'insert',\n",
       " 'pop',\n",
       " 'remove',\n",
       " 'reverse',\n",
       " 'sort']"
      ]
     },
     "execution_count": 2,
     "metadata": {},
     "output_type": "execute_result"
    }
   ],
   "source": [
    "a=[1,2,3,4]\n",
    "dir(a)"
   ]
  },
  {
   "cell_type": "code",
   "execution_count": 5,
   "id": "0fb5e212",
   "metadata": {},
   "outputs": [
    {
     "name": "stdout",
     "output_type": "stream",
     "text": [
      "my name is: rohit\n",
      "my age is: 27\n",
      "my marks are: 100\n"
     ]
    }
   ],
   "source": [
    "# Example of class \n",
    "#class is noting but a blueprint or action plan\n",
    "#object is a variable in which we can store value in python everything is object.\n",
    "\n",
    "class student:\n",
    "    def __init__(self):\n",
    "        self.name='rohit'\n",
    "        self.age=27\n",
    "        self.marks=100\n",
    "        \n",
    "    def talk(self):\n",
    "        print('my name is:',self.name)\n",
    "        print('my age is:',self.age)\n",
    "        print('my marks are:',self.marks)\n",
    "\n",
    "s1= student()\n",
    "s1.talk()"
   ]
  },
  {
   "cell_type": "code",
   "execution_count": 8,
   "id": "b0456d15",
   "metadata": {},
   "outputs": [
    {
     "name": "stdout",
     "output_type": "stream",
     "text": [
      "My name is: rohit\n",
      "My account no is: 123\n",
      "My bank balance is: 100000\n"
     ]
    }
   ],
   "source": [
    "#example on class with reference variable\n",
    "#self variable is default variable which is always pointing towards current object\n",
    "\n",
    "class student:\n",
    "    def __init__(self,name_holder, account_no, bank_balance):   #here we used reference variables inside function\n",
    "        self.name=name_holder\n",
    "        self.account=account_no\n",
    "        self.bank=bank_balance\n",
    "        \n",
    "    def talk(self):\n",
    "        print('My name is:',self.name)\n",
    "        print('My account no is:',self.account)\n",
    "        print('My bank balance is:',self.bank)\n",
    "        \n",
    "s2=student('rohit',123,100000)\n",
    "s2.talk()"
   ]
  },
  {
   "cell_type": "code",
   "execution_count": 9,
   "id": "2018fad7",
   "metadata": {},
   "outputs": [
    {
     "name": "stdout",
     "output_type": "stream",
     "text": [
      "Student name is: rohit\n",
      "rollno is: 36\n",
      "marks are: 100\n"
     ]
    }
   ],
   "source": [
    "class student:\n",
    "    def __init__(self,student_name,roll_no,student_marks):\n",
    "        self.name=student_name\n",
    "        self.rollno=roll_no\n",
    "        self.marks=student_marks\n",
    "        \n",
    "    def talk(self):\n",
    "        print('Student name is:',self.name)\n",
    "        print('rollno is:',self.rollno)\n",
    "        print('marks are:',self.marks)\n",
    "        \n",
    "obj= student('rohit',36,100)\n",
    "obj.talk()"
   ]
  },
  {
   "cell_type": "code",
   "execution_count": 46,
   "id": "0e51ed08",
   "metadata": {},
   "outputs": [
    {
     "name": "stdout",
     "output_type": "stream",
     "text": [
      "student name: rohit\n",
      "rollno: 30\n",
      "marks: 100\n",
      "student name: rushi\n",
      "rollno: 31\n",
      "marks: 99\n"
     ]
    }
   ],
   "source": [
    "#constructor is nothing but special method in python\n",
    "#constructor should be usedby using __init__(self)\n",
    "\n",
    "class student:\n",
    "    def __init__(self,x,y,z):\n",
    "        self.name=x\n",
    "        self.rollno=y\n",
    "        self.marks=z\n",
    "        \n",
    "    def display(self):\n",
    "        print('student name:',self.name)\n",
    "        print('rollno:',self.rollno)\n",
    "        print('marks:',self.marks)\n",
    "        #format(self.name,self.rollno)\n",
    "        \n",
    "s1=student('rohit',30,100)\n",
    "s1.display()\n",
    "s2=student('rushi',31,99)\n",
    "s2.display()"
   ]
  },
  {
   "cell_type": "code",
   "execution_count": null,
   "id": "fe120cb7",
   "metadata": {},
   "outputs": [],
   "source": []
  }
 ],
 "metadata": {
  "kernelspec": {
   "display_name": "Python 3 (ipykernel)",
   "language": "python",
   "name": "python3"
  },
  "language_info": {
   "codemirror_mode": {
    "name": "ipython",
    "version": 3
   },
   "file_extension": ".py",
   "mimetype": "text/x-python",
   "name": "python",
   "nbconvert_exporter": "python",
   "pygments_lexer": "ipython3",
   "version": "3.9.13"
  }
 },
 "nbformat": 4,
 "nbformat_minor": 5
}
